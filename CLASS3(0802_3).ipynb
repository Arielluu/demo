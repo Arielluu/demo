{
  "nbformat": 4,
  "nbformat_minor": 0,
  "metadata": {
    "colab": {
      "name": "CLASS3(0802_3).ipynb",
      "provenance": [],
      "authorship_tag": "ABX9TyOA+FXgWD2/3if4+MYTH/My",
      "include_colab_link": true
    },
    "kernelspec": {
      "name": "python3",
      "display_name": "Python 3"
    },
    "language_info": {
      "name": "python"
    }
  },
  "cells": [
    {
      "cell_type": "markdown",
      "metadata": {
        "id": "view-in-github",
        "colab_type": "text"
      },
      "source": [
        "<a href=\"https://colab.research.google.com/github/Arielluu/demo/blob/main/CLASS3(0802_3).ipynb\" target=\"_parent\"><img src=\"https://colab.research.google.com/assets/colab-badge.svg\" alt=\"Open In Colab\"/></a>"
      ]
    },
    {
      "cell_type": "code",
      "execution_count": null,
      "metadata": {
        "id": "wjinMEf6raTR"
      },
      "outputs": [],
      "source": [
        "def say_name():\n",
        "  print(\"HI\")"
      ]
    },
    {
      "cell_type": "code",
      "source": [
        ""
      ],
      "metadata": {
        "id": "oO0lb-C410th"
      },
      "execution_count": null,
      "outputs": []
    },
    {
      "cell_type": "code",
      "source": [
        "def is_prime(num):\n",
        "  for i in range(2,num, 1):\n",
        "    if num % i == 0:\n",
        "     return False\n",
        "  return True"
      ],
      "metadata": {
        "id": "F1rS4_LCsFST"
      },
      "execution_count": null,
      "outputs": []
    },
    {
      "cell_type": "code",
      "source": [
        "is_prime(11)"
      ],
      "metadata": {
        "colab": {
          "base_uri": "https://localhost:8080/"
        },
        "id": "4fkn-fyAeRYv",
        "outputId": "1e07da6e-aabe-450c-bf02-e5a52440b46e"
      },
      "execution_count": null,
      "outputs": [
        {
          "output_type": "execute_result",
          "data": {
            "text/plain": [
              "True"
            ]
          },
          "metadata": {},
          "execution_count": 7
        }
      ]
    },
    {
      "cell_type": "code",
      "source": [
        "import random\n",
        "ans = []\n",
        "for i in range(10):\n",
        "  sample = random.randint(1,100)\n",
        "  ans.append(sample)\n",
        "  print(sample,end=\" \")\n",
        "print(sum(ans), sum(ans)/len(ans))"
      ],
      "metadata": {
        "colab": {
          "base_uri": "https://localhost:8080/"
        },
        "id": "8Wq8vlBYeev9",
        "outputId": "0c79b4ef-32c3-44c1-df5f-62cecbbe6b28"
      },
      "execution_count": null,
      "outputs": [
        {
          "output_type": "stream",
          "name": "stdout",
          "text": [
            "82 45 74 6 17 8 91 29 75 92 519 51.9\n"
          ]
        }
      ]
    },
    {
      "cell_type": "code",
      "source": [
        "import random\n",
        "for i in range(100):\n",
        "  sample = random.randint(1,100)\n",
        "  print(sample,end=\" \")"
      ],
      "metadata": {
        "colab": {
          "base_uri": "https://localhost:8080/"
        },
        "id": "gQWFV8x_dxye",
        "outputId": "5f395e18-a1d7-4133-9403-834fdee47553"
      },
      "execution_count": null,
      "outputs": [
        {
          "output_type": "stream",
          "name": "stdout",
          "text": [
            "33 53 1 99 58 50 12 72 32 13 75 90 46 54 98 56 79 41 61 72 67 96 68 35 8 84 72 8 67 13 13 28 64 61 51 30 61 39 75 29 32 30 47 82 92 59 34 60 91 96 20 42 60 48 60 93 82 45 87 58 6 75 55 70 74 79 5 61 83 5 88 1 98 27 12 2 55 73 86 43 22 72 57 49 49 67 54 19 23 89 78 75 98 92 74 56 29 51 17 11 "
          ]
        }
      ]
    },
    {
      "cell_type": "code",
      "source": [
        "n = int(input())\n",
        "for i in range(n):\n",
        "  for j in range(i + 1):\n",
        "    print(\"*\",end=\"\")\n",
        "  print()"
      ],
      "metadata": {
        "colab": {
          "base_uri": "https://localhost:8080/"
        },
        "id": "YpNRV8HRqx-T",
        "outputId": "f1812eb7-5ad9-4371-c911-3fdfbbacb8d6"
      },
      "execution_count": null,
      "outputs": [
        {
          "output_type": "stream",
          "name": "stdout",
          "text": [
            "6\n",
            "*\n",
            "**\n",
            "***\n",
            "****\n",
            "*****\n",
            "******\n"
          ]
        }
      ]
    },
    {
      "cell_type": "code",
      "source": [
        "n = int(input())\n",
        "for i in range(n):\n",
        "  for j in range(2*(i+1)):\n",
        "    print(\"*\",end=\"\")\n",
        "  print()"
      ],
      "metadata": {
        "colab": {
          "base_uri": "https://localhost:8080/"
        },
        "id": "DdnaGvQhry0C",
        "outputId": "5ad685be-76a5-46cd-95a1-87f75343c4d3"
      },
      "execution_count": null,
      "outputs": [
        {
          "output_type": "stream",
          "name": "stdout",
          "text": [
            "6\n",
            "**\n",
            "****\n",
            "******\n",
            "********\n",
            "**********\n",
            "************\n"
          ]
        }
      ]
    },
    {
      "cell_type": "code",
      "source": [
        "n = int(input())\n",
        "for i in range(n):\n",
        "  for j in range(n - i):\n",
        "    print(\"*\",end=\"\")\n",
        "  print()"
      ],
      "metadata": {
        "colab": {
          "base_uri": "https://localhost:8080/"
        },
        "id": "p6237oRvsbwg",
        "outputId": "46b3d3be-ca12-4302-c7ba-c427dbc41a4b"
      },
      "execution_count": null,
      "outputs": [
        {
          "output_type": "stream",
          "name": "stdout",
          "text": [
            "6\n",
            "******\n",
            "*****\n",
            "****\n",
            "***\n",
            "**\n",
            "*\n"
          ]
        }
      ]
    },
    {
      "cell_type": "code",
      "source": [
        "matrix= [[32,57,89],[59,20,66], [66,78,82], [32,89,100], [78,100,30]]\n",
        "row = len(matrix)\n",
        "row_ans = [0 for i in range(row)]\n",
        "col = len(matrix[0])\n",
        "col_ans = [0 for j in range(col)]\n",
        "\n",
        "for i in range(row):\n",
        "  for j in range(col):\n",
        "     row_ans[i] += matrix[i][j]\n",
        "     col_ans[j] += matrix[i][j]\n",
        "print(f\"row 總和:{row_ans}\")\n",
        "print(f\"col 總和:{col_ans}\")"
      ],
      "metadata": {
        "colab": {
          "base_uri": "https://localhost:8080/"
        },
        "id": "BpY8Ii1Sw02T",
        "outputId": "bab2b405-7888-49b1-97d0-35c48bd4c2a8"
      },
      "execution_count": null,
      "outputs": [
        {
          "output_type": "stream",
          "name": "stdout",
          "text": [
            "row 總和:[178, 145, 226, 221, 208]\n",
            "col 總和:[267, 344, 367]\n"
          ]
        }
      ]
    },
    {
      "cell_type": "code",
      "source": [
        "matrix= [[32,57,89],[59,20,66], [66,78,82], [32,89,100], [78,100,30]]\n",
        "row = len(matrix)\n",
        "row_ans = [0 for i in range(row)]\n",
        "col = len(matrix[0])\n",
        "col_ans = [0 for j in range(col)]\n",
        "\n",
        "for i in range(row):\n",
        "  for j in range(col):\n",
        "     row_ans[i] += matrix([i][j]/row)\n",
        "     col_ans[j] += matrix([i][j]/col)\n",
        "print(f\"row 總和:{row_ans}\")\n",
        "print(f\"col 總和:{col_ans}\")"
      ],
      "metadata": {
        "colab": {
          "base_uri": "https://localhost:8080/",
          "height": 235
        },
        "id": "h9rJyQtb0h5U",
        "outputId": "9a81faf5-29c6-4010-e7bb-671e77dcaf5c"
      },
      "execution_count": null,
      "outputs": [
        {
          "output_type": "error",
          "ename": "TypeError",
          "evalue": "ignored",
          "traceback": [
            "\u001b[0;31m---------------------------------------------------------------------------\u001b[0m",
            "\u001b[0;31mTypeError\u001b[0m                                 Traceback (most recent call last)",
            "\u001b[0;32m<ipython-input-33-7a8b0570c9a4>\u001b[0m in \u001b[0;36m<module>\u001b[0;34m()\u001b[0m\n\u001b[1;32m      7\u001b[0m \u001b[0;32mfor\u001b[0m \u001b[0mi\u001b[0m \u001b[0;32min\u001b[0m \u001b[0mrange\u001b[0m\u001b[0;34m(\u001b[0m\u001b[0mrow\u001b[0m\u001b[0;34m)\u001b[0m\u001b[0;34m:\u001b[0m\u001b[0;34m\u001b[0m\u001b[0;34m\u001b[0m\u001b[0m\n\u001b[1;32m      8\u001b[0m   \u001b[0;32mfor\u001b[0m \u001b[0mj\u001b[0m \u001b[0;32min\u001b[0m \u001b[0mrange\u001b[0m\u001b[0;34m(\u001b[0m\u001b[0mcol\u001b[0m\u001b[0;34m)\u001b[0m\u001b[0;34m:\u001b[0m\u001b[0;34m\u001b[0m\u001b[0;34m\u001b[0m\u001b[0m\n\u001b[0;32m----> 9\u001b[0;31m      \u001b[0mrow_ans\u001b[0m\u001b[0;34m[\u001b[0m\u001b[0mi\u001b[0m\u001b[0;34m]\u001b[0m \u001b[0;34m+=\u001b[0m \u001b[0mmatrix\u001b[0m\u001b[0;34m(\u001b[0m\u001b[0;34m[\u001b[0m\u001b[0mi\u001b[0m\u001b[0;34m]\u001b[0m\u001b[0;34m[\u001b[0m\u001b[0mj\u001b[0m\u001b[0;34m]\u001b[0m\u001b[0;34m/\u001b[0m\u001b[0mcol\u001b[0m\u001b[0;34m)\u001b[0m\u001b[0;34m\u001b[0m\u001b[0;34m\u001b[0m\u001b[0m\n\u001b[0m\u001b[1;32m     10\u001b[0m      \u001b[0mcol_ans\u001b[0m\u001b[0;34m[\u001b[0m\u001b[0mj\u001b[0m\u001b[0;34m]\u001b[0m \u001b[0;34m+=\u001b[0m \u001b[0mmatrix\u001b[0m\u001b[0;34m(\u001b[0m\u001b[0;34m[\u001b[0m\u001b[0mi\u001b[0m\u001b[0;34m]\u001b[0m\u001b[0;34m[\u001b[0m\u001b[0mj\u001b[0m\u001b[0;34m]\u001b[0m\u001b[0;34m/\u001b[0m\u001b[0mrow\u001b[0m\u001b[0;34m)\u001b[0m\u001b[0;34m\u001b[0m\u001b[0;34m\u001b[0m\u001b[0m\n\u001b[1;32m     11\u001b[0m \u001b[0mprint\u001b[0m\u001b[0;34m(\u001b[0m\u001b[0;34mf\"row 總和:{row_ans}\"\u001b[0m\u001b[0;34m)\u001b[0m\u001b[0;34m\u001b[0m\u001b[0;34m\u001b[0m\u001b[0m\n",
            "\u001b[0;31mTypeError\u001b[0m: 'list' object is not callable"
          ]
        }
      ]
    },
    {
      "cell_type": "code",
      "source": [
        "scores = [[\"Harry\", 32], [\"Berry\", 31], [\"thousand\", 21]]\n",
        "print(sorted(scores, key =lambda x:x[1]))"
      ],
      "metadata": {
        "colab": {
          "base_uri": "https://localhost:8080/"
        },
        "id": "dAEBElTQ7PUm",
        "outputId": "4127a9c1-bb35-47a1-feda-8df75e2e25e6"
      },
      "execution_count": null,
      "outputs": [
        {
          "output_type": "stream",
          "name": "stdout",
          "text": [
            "[['thousand', 21], ['Berry', 31], ['Harry', 32]]\n"
          ]
        }
      ]
    },
    {
      "cell_type": "code",
      "source": [
        "scores = [[\"Allie\", 30, 17.2], [\"Carol\", 15, 23.1], [\"Berry\", 10, 21.3]]\n",
        "print(sorted(scores, key =lambda x:x[2]))"
      ],
      "metadata": {
        "colab": {
          "base_uri": "https://localhost:8080/"
        },
        "id": "ayIS8OKx7zV1",
        "outputId": "cc1eec54-9181-47f5-9630-6bfab0a98d18"
      },
      "execution_count": null,
      "outputs": [
        {
          "output_type": "stream",
          "name": "stdout",
          "text": [
            "[['Allie', 30, 17.2], ['Berry', 10, 21.3], ['Carol', 15, 23.1]]\n"
          ]
        }
      ]
    }
  ]
}